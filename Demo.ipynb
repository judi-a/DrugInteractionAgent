{
 "cells": [
  {
   "cell_type": "code",
   "execution_count": 3,
   "id": "25994c08-2bc0-4cbd-bb89-d68c26863d44",
   "metadata": {},
   "outputs": [],
   "source": [
    "import warnings\n",
    "warnings.filterwarnings(\"ignore\")\n",
    "from drug_extractor_agent import run_agent"
   ]
  },
  {
   "cell_type": "code",
   "execution_count": 4,
   "id": "a7546632-1924-4fbc-a2df-801528a854e5",
   "metadata": {},
   "outputs": [
    {
     "name": "stdin",
     "output_type": "stream",
     "text": [
      "Tell me about your proposal: In my experiment, I am using Aspirin and COX1\n"
     ]
    },
    {
     "name": "stdout",
     "output_type": "stream",
     "text": [
      "\n",
      " The drugs you are using in this proposal are: \n",
      "Aspirin\n",
      "\n",
      " The target proteins that the above drugs are binding to in this proposal are: \n",
      "COX1\n",
      "\n",
      " Getting the amino acod sequence of the target\n",
      "\n",
      " The amino acid sequence of the target is MSRSLLLWFLLFLLLLPPLPVLLADPGAPTPVNPCCYYPCQHQGICVRFGLDRYQCDCTRTGYSGPNCTIPGLWTWLRNSLRPSPSFTHFLLTHGRWFWEFVNATFIREMLMRLVLTVRSNLIPSPPTYNSAHDYISWESFSNVSYYTRILPSVPKDCPTPMGTKGKKQLPDAQLLARRFLLRRKFIPDPQGTNLMFAFFAQHFTHQFFKTSGKMGPGFTKALGHGVDLGHIYGDNLERQYQLRLFKDGKLKYQVLDGEMYPPSVEEAPVLMHYPRGIPPQSQMAVGQEVFGLLPGLMLYATLWLREHNRVCDLLKAEHPTWGDEQLFQTTRLILIGETIKIVIEEYVQQLSGYFLQLKFDPELLFGVQFQYRNRIAMEFNHLYHWHPLMPDSFKVGSQEYSYEQFLFNTSMLVDYGVEALVDAFSRQIAGRIGGGRNMDHHILHVAVDVIRESREMRLQPFNEYRKRFGMKPYTSFQELVGEKEMAAELEELYGDIDALEFYPGLLLEKCHPNSIFGESMIEIGAPFSLKGLLGNPICSPEYWKPSTFGGEVGFNIVKTATLKKLVCLNTKTCPYVSFRVPDASQDDGPAVERPSTEL\n",
      "Downloading finished... Beginning to extract zip file...\n",
      "pretrained model Successfully Downloaded...\n"
     ]
    },
    {
     "name": "stderr",
     "output_type": "stream",
     "text": [
      "/pytorch/third_party/ideep/mkl-dnn/src/cpu/aarch64/xbyak_aarch64/src/util_impl_linux.h, 451: Can't read MIDR_EL1 sysfs entry\n"
     ]
    },
    {
     "name": "stdout",
     "output_type": "stream",
     "text": [
      "\n",
      " The drug SMILE sequence is ['CC(=O)Oc1ccccc1C(O)=O']\n",
      "virtual screening...\n",
      "Drug Target Interaction Prediction Mode...\n",
      "in total: 1 drug-target pairs\n",
      "encoding drug...\n",
      "unique drugs: 1\n",
      "encoding protein...\n",
      "unique target sequence: 1\n",
      "Done.\n",
      "predicting...\n",
      "---------------\n",
      "Virtual Screening Result\n",
      "+------+-----------+-------------+---------------+\n",
      "| Rank | Drug Name | Target Name | Binding Score |\n",
      "+------+-----------+-------------+---------------+\n",
      "|  1   |  Aspirin  |     COX1    |      3.50     |\n",
      "+------+-----------+-------------+---------------+\n"
     ]
    },
    {
     "name": "stdin",
     "output_type": "stream",
     "text": [
      "Would you like me to provide you medical information on your drug Aspirin yes\n"
     ]
    },
    {
     "name": "stdout",
     "output_type": "stream",
     "text": [
      "\n",
      "\n",
      "Aspirin is a medication used in various ways in the medical field. Generally, it is primarily known for its pain-relieving, fever-reducing, and anti-inflammatory properties. It is commonly used to alleviate minor aches and pains, reduce fever, and manage inflammatory conditions like rheumatoid arthritis.\n",
      "\n",
      "Another critical use of aspirin is in cardiovascular health. Low-dose aspirin (75mg) is often prescribed as a blood thinner to patients who have had heart attacks or strokes, or to those at high risk of these events. Aspirin inhibits the function of platelets (the clotting cells in our blood), thereby preventing the formation of new clots and reducing the risk of heart attacks and strokes.\n",
      "\n",
      "However, it's important to note that aspirin could potentially causeside effects, like gastrointestinal ulcers and bleeding, so it should only be used under the direction of a healthcare professional. \n",
      "\n",
      "Also, due to a rare but serious illness called Reye's syndrome, it's recommended that children and teenagers recovering from chickenpox or flu-like symptoms should not take aspirin. \n",
      "\n",
      "In conclusion, aspirin is a versatile drug with uses ranging from pain management to heart disease prevention, but its use must be carefully monitored to avoid potential side effects.\n"
     ]
    }
   ],
   "source": [
    "run_agent()"
   ]
  },
  {
   "cell_type": "code",
   "execution_count": null,
   "id": "56b19e13-303b-4aab-b6ba-afa33a576f51",
   "metadata": {},
   "outputs": [],
   "source": []
  }
 ],
 "metadata": {
  "kernelspec": {
   "display_name": "Python 3 (ipykernel)",
   "language": "python",
   "name": "python3"
  },
  "language_info": {
   "codemirror_mode": {
    "name": "ipython",
    "version": 3
   },
   "file_extension": ".py",
   "mimetype": "text/x-python",
   "name": "python",
   "nbconvert_exporter": "python",
   "pygments_lexer": "ipython3",
   "version": "3.10.15"
  }
 },
 "nbformat": 4,
 "nbformat_minor": 5
}
